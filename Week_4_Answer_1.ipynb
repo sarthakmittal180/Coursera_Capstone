{
 "cells": [
  {
   "cell_type": "markdown",
   "metadata": {},
   "source": [
    "## Introuction / Business Problem"
   ]
  },
  {
   "cell_type": "markdown",
   "metadata": {},
   "source": [
    "### The business problem that has been taken is\n",
    "  - Which locality of all cities in US would be preferrable to set up a Fast Food outlet ?"
   ]
  },
  {
   "cell_type": "markdown",
   "metadata": {},
   "source": [
    "### Defining the Business Problem"
   ]
  },
  {
   "cell_type": "markdown",
   "metadata": {},
   "source": [
    "### My boss Manish, an investor from India is looking to start its fast food outlet in United States but in order to do that he wants to set up his outlet in best of the locality where footfall could be more and per capita income of that city is also more. Best locality has been defined by him on the following constraints: -\n",
    " -  Venues in each locality\n",
    " -  Per Capita Income\n",
    " -  Population density of locality\n",
    " -  Population of each location"
   ]
  },
  {
   "cell_type": "markdown",
   "metadata": {},
   "source": [
    "### Category of venues that he is intrested in are: -\n",
    " -  Theme Parks\n",
    " -  Events\n",
    " -  Arts\n",
    " -  Educational Institutions like College\n",
    " -  Travel and Transport\n",
    " -  Commercial Places\n",
    " -  Shops & Services\n",
    " -  Outdoors"
   ]
  },
  {
   "cell_type": "code",
   "execution_count": null,
   "metadata": {},
   "outputs": [],
   "source": []
  }
 ],
 "metadata": {
  "kernelspec": {
   "display_name": "Python 3",
   "language": "python",
   "name": "python3"
  },
  "language_info": {
   "codemirror_mode": {
    "name": "ipython",
    "version": 3
   },
   "file_extension": ".py",
   "mimetype": "text/x-python",
   "name": "python",
   "nbconvert_exporter": "python",
   "pygments_lexer": "ipython3",
   "version": "3.7.6"
  }
 },
 "nbformat": 4,
 "nbformat_minor": 4
}
